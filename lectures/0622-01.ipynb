{
  "nbformat": 4,
  "nbformat_minor": 0,
  "metadata": {
    "colab": {
      "provenance": []
    },
    "kernelspec": {
      "name": "python3",
      "display_name": "Python 3"
    },
    "language_info": {
      "name": "python"
    }
  },
  "cells": [
    {
      "cell_type": "markdown",
      "source": [
        "Problem 1: What is the magnitude of $2 - \\sqrt{2}i$?\n",
        "\n",
        "Answer:"
      ],
      "metadata": {
        "id": "uryJFrd0RkRU"
      }
    },
    {
      "cell_type": "markdown",
      "source": [
        "Problem 2: What is the complex conjugate of $e^\\frac{\\pi i}{3}$?\n",
        "\n",
        "Answer:"
      ],
      "metadata": {
        "id": "8UeoMtttR4hn"
      }
    },
    {
      "cell_type": "markdown",
      "source": [
        "Problem 3:\n",
        "Compute $\\begin{pmatrix}\n",
        "-1&1\\\\\n",
        "3&-1\n",
        "\\end{pmatrix} \\cdot\n",
        "\\begin{pmatrix}\n",
        "0&1\\\\\n",
        "2&0\n",
        "\\end{pmatrix}$\n"
      ],
      "metadata": {
        "id": "Xo_CcSciTvWG"
      }
    },
    {
      "cell_type": "markdown",
      "source": [
        "Problem 4: Determine which pairs of matrices below commute.\n",
        "\n",
        "(Matrices $A$ and $B$ are said to commute if $AB=BA$).\n",
        "\n",
        "(a) $$ \\begin{pmatrix}\n",
        "0 & 1\\\\\n",
        "1 & 0\n",
        "\\end{pmatrix} \\textrm{and} \\begin{pmatrix}\n",
        "1 & 0\\\\\n",
        "0 & 1\n",
        "\\end{pmatrix}$$\n",
        "\n",
        "(b) $$\\begin{pmatrix}\n",
        "0 & 1\\\\\n",
        "1 & 0\n",
        "\\end{pmatrix} \\textrm{and} \\begin{pmatrix}\n",
        "1 & 0\\\\\n",
        "0 & -1\n",
        "\\end{pmatrix}$$\n",
        "\n",
        "(c) $$\\begin{pmatrix}\n",
        "1 & 1\\\\\n",
        "1 & -1\n",
        "\\end{pmatrix} \\textrm{and} \\begin{pmatrix}\n",
        "0 & 1\\\\\n",
        "1 & 0\n",
        "\\end{pmatrix}$$\n",
        "\n",
        "(d) $$\\begin{pmatrix}\n",
        "1 & 1\\\\\n",
        "1 & -1\n",
        "\\end{pmatrix} \\textrm{and} \\begin{pmatrix}\n",
        "1 & 0\\\\\n",
        "0 & 1\n",
        "\\end{pmatrix}$$\n",
        "\n",
        "(e) $$\\begin{pmatrix}\n",
        "2 & 0\\\\\n",
        "0 & -1\n",
        "\\end{pmatrix} \\textrm{and} \\begin{pmatrix}\n",
        "3 & 0\\\\\n",
        "0 & 2\n",
        "\\end{pmatrix}$$\n"
      ],
      "metadata": {
        "id": "lMwyk0zUSYzx"
      }
    },
    {
      "cell_type": "markdown",
      "source": [
        "Problem 7: What is the inner product\n",
        "between the vectors $\\begin{pmatrix}\n",
        "\\frac{\\sqrt{3}}{2}\\\\[0.5ex]\n",
        "\\frac{1}{2}\n",
        "\\end{pmatrix} \\textrm{and}\n",
        "\\begin{pmatrix}\n",
        "\\frac{1}{2}\\\\[0.5ex]\n",
        "\\frac{\\sqrt{3}}{2}\n",
        "\\end{pmatrix}$ ?"
      ],
      "metadata": {
        "id": "1VlvQ-2NUKN0"
      }
    },
    {
      "cell_type": "code",
      "source": [],
      "metadata": {
        "id": "e1yyOebWULIF"
      },
      "execution_count": null,
      "outputs": []
    }
  ]
}