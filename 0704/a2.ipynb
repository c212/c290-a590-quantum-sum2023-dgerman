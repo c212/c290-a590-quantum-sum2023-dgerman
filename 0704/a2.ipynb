{
  "nbformat": 4,
  "nbformat_minor": 0,
  "metadata": {
    "colab": {
      "provenance": []
    },
    "kernelspec": {
      "name": "python3",
      "display_name": "Python 3"
    },
    "language_info": {
      "name": "python"
    }
  },
  "cells": [
    {
      "cell_type": "markdown",
      "source": [
        "We know that:\n",
        "\n",
        "$|0\\rangle = \\begin{pmatrix} 1 \\\\ 0\\end{pmatrix}$\n",
        "\n",
        "We also know that:\n",
        "\n",
        "$|1\\rangle = \\begin{pmatrix} 0 \\\\ 1\\end{pmatrix}$\n",
        "\n",
        "We know matrix multiplication:\n",
        "\n",
        "$\\begin{pmatrix} a_{00} & a_{01} \\end{pmatrix} \\cdot \\begin{pmatrix} b_{00} \\\\ b_{10}\\end{pmatrix} = \\begin{pmatrix} a_{00}b_{00} + a_{01}b_{10}\\end{pmatrix}$\n",
        "\n",
        "Let's try the other way around:\n",
        "\n",
        "$\\begin{pmatrix} a_{00} \\\\ a_{01} \\end{pmatrix} \\cdot \\begin{pmatrix} b_{00} & b_{10}\\end{pmatrix} = \\begin{pmatrix} a_{00}b_{00}  & a_{00}b_{10} \\\\ a_{01}b_{00} & a_{01} b_{10}\\end{pmatrix}$\n",
        "\n",
        "We can summarize all this (if we want).\n",
        "\n",
        "Let's introduce a new operation though: $\\otimes$.\n",
        "\n",
        "It's called tensor product. Let's see some examples:\n",
        "\n",
        "$\\begin{pmatrix} a \\\\ b \\end{pmatrix} \\otimes \\begin{pmatrix} c \\\\ d\\end{pmatrix} = \\begin{pmatrix} a \\begin{pmatrix} c \\\\ d \\end{pmatrix} \\\\ b \\begin{pmatrix} c \\\\ d \\end{pmatrix} \\end{pmatrix} = \\begin{pmatrix} ac \\\\ ad \\\\ bc \\\\ bd \\end{pmatrix}$\n",
        "\n",
        "We can summarize this too.\n",
        "\n",
        "Exercises:\n",
        "\n",
        "What is $|0\\rangle \\otimes |0\\rangle $?\n",
        "\n",
        "What is $|0\\rangle \\otimes |1\\rangle $?\n",
        "\n",
        "What is $|1\\rangle \\otimes |0\\rangle $?\n",
        "\n",
        "What is $|1\\rangle \\otimes |1\\rangle $?\n",
        "\n",
        "What is $|1\\rangle \\otimes |0\\rangle \\otimes |1\\rangle$?\n",
        "\n",
        "What is $\\begin{pmatrix} a_{00} & a_{01} \\\\ a_{10} & a_{11} \\end{pmatrix} \\otimes \\begin{pmatrix} b_{00} & b_{01} \\\\ b_{10} & b_{11} \\end{pmatrix}$ ?\n",
        "\n",
        "What does TensorProduct[{{0}, {1}}, {{0}, {1}}] produce in WolframAlpha?\n",
        "\n",
        "Now let's tackle Assignment 2.\n",
        "\n",
        "**Problem 1** is Problem 6 in Assignment 1.\n",
        "\n",
        "So let's change it a bit: what is the inner product of $|{+}{+}\\rangle$ and $|{-}{-}\\rangle$?\n"
      ],
      "metadata": {
        "id": "f2HbyaN68v7l"
      }
    },
    {
      "cell_type": "markdown",
      "source": [
        "**Problem 2** wants a true/false answer. Here's what is says:\n",
        "\n",
        "The standard basis for a two-qubit quantum system is $|00\\rangle, |01\\rangle, |10\\rangle, |11\\rangle$\n",
        "\n",
        "To determine if these vectors are a basis can you please:\n",
        "\n",
        "(a) write them out explicitly and then\n",
        "\n",
        "(b) prove they're orthogonal on each other\n",
        "\n",
        "(c) also prove they have each magnitude 1 (one)\n",
        "\n",
        "Here's a clue: $|ij\\rangle = |i\\rangle \\otimes |j\\rangle \\textrm{ with } i, j \\in \\{0, 1\\}$.\n"
      ],
      "metadata": {
        "id": "mDnjofTD86el"
      }
    },
    {
      "cell_type": "markdown",
      "source": [
        "Now can you calculate the inner product of $|{+}{+}\\rangle$ with $|{-}{-}\\rangle$?\n",
        "\n",
        "How do you do it?\n"
      ],
      "metadata": {
        "id": "Oiy1epBG9SzQ"
      }
    },
    {
      "cell_type": "markdown",
      "source": [
        "**Problem 3.** True or false?\n",
        "\n",
        "Any state of a two-qubit quantum system can be written in the form $(a|0\\rangle + b|1\\rangle)\\cdot(c|0\\rangle + d|1\\rangle)$ where $a, b, c, d \\in \\mathbb{C}$.\n",
        "\n",
        "**Problem 4.** True or false?\n",
        "\n",
        "Two qubits are entangled if their state can be written as\n",
        "$(a|0\\rangle + b|1\\rangle)\\cdot(c|0\\rangle + d|1\\rangle)$.\n",
        "\n",
        "**Problem 5.** True or false?\n",
        "\n",
        "$a|00\\rangle + b|11\\rangle = a|{++}\\rangle + b|{--}\\rangle)$ for any $a, b \\in \\mathbb{C}$.\n",
        "\n",
        "**Problem 6.** True or false?\n",
        "\n",
        "Bell's theorem implies that there is no local hidden variable theory (local realism) that is consistent with the predictions of quantum mechanics.\n",
        "\n"
      ],
      "metadata": {
        "id": "uds3GUrd99yb"
      }
    },
    {
      "cell_type": "markdown",
      "source": [
        "**Problem 7.** What is the inner product between $\\frac{3}{5}|0\\rangle - \\frac{4}{5}|1\\rangle$ and $|+\\rangle$?\n",
        "\n",
        "Answer: We start from\n",
        "\n",
        "$|+\\rangle = \\frac{1}{\\sqrt{2}}|0\\rangle + \\frac{1}{\\sqrt{2}}|1\\rangle = \\begin{pmatrix} \\frac{1}{\\sqrt{2}} \\\\ \\frac{1}{\\sqrt{2}} \\end{pmatrix}$\n",
        "\n",
        "and we calculate the inner product to be:\n",
        "\n",
        "$\\begin{pmatrix} \\frac{3}{5} & -\\frac{4}{5} \\end{pmatrix} \\cdot \\begin{pmatrix} \\frac{1}{\\sqrt{2}} \\\\ \\frac{1}{\\sqrt{2}} \\end{pmatrix} = \\frac{3}{5\\sqrt{2}}+(-\\frac{4}{5})\\cdot\\frac{1}{\\sqrt{2}}= \\frac{3}{5\\sqrt{2}} - \\frac{4}{5\\sqrt{2}} = - \\frac{1}{5\\sqrt{2}}$\n"
      ],
      "metadata": {
        "id": "ykH_YeGT_uTW"
      }
    },
    {
      "cell_type": "markdown",
      "source": [
        "**Problem 8.** Rewrite\n",
        "\n",
        "$\\frac{3}{5}|0\\rangle - \\frac{4}{5}|1\\rangle$\n",
        "\n",
        "in the sign basis. Express your answer as:\n",
        "\n",
        "$a|+\\rangle + b|-\\rangle$\n",
        "\n",
        "and specify $a$ and $b$.\n",
        "\n",
        "Answer: We start from\n",
        "\n",
        "$|+\\rangle = \\frac{1}{\\sqrt{2}} |0\\rangle + \\frac{1}{\\sqrt{2}}|1\\rangle$\n",
        "\n",
        "and\n",
        "\n",
        "$|-\\rangle = \\frac{1}{\\sqrt{2}} |0\\rangle - \\frac{1}{\\sqrt{2}}|1\\rangle$\n",
        "\n",
        "So that gives us:\n",
        "\n",
        "$|0\\rangle = \\frac{1}{\\sqrt{2}} \\big(|+\\rangle + |-\\rangle\\big)$\n",
        "\n",
        "and\n",
        "\n",
        "$|1\\rangle = \\frac{1}{\\sqrt{2}} \\big(|+\\rangle - |-\\rangle\\big)$\n",
        "\n",
        "\n",
        "So now we can rewrite the original qubit as follows:\n",
        "\n",
        "$\\frac{3}{5}\\cdot\\frac{1}{2}\\big(|+\\rangle + |-\\rangle\\big) - \\frac{4}{5}\\cdot\\big(|+\\rangle - |-\\rangle\\big) =~... $\n",
        "\n",
        "Please go ahead and finish the calculations.\n"
      ],
      "metadata": {
        "id": "bDynK5DZAM4o"
      }
    },
    {
      "cell_type": "markdown",
      "source": [
        "**Problem 9.** Suppose that a qubit is in the state\n",
        "\n",
        "$|\\phi\\rangle = a|0\\rangle + \\sqrt{1 - a^2}|1\\rangle$\n",
        "\n",
        "where\n",
        "\n",
        "$a \\in [-1, 1]$. If we first perform a standard basis measurement on this qubit\n",
        "\n",
        "and then perform a $|u\\rangle, |u^\\perp\\rangle$-basis measurement where\n",
        "\n",
        "$|u\\rangle = b|0\\rangle + \\sqrt{1-b^2}|1\\rangle$ for some $b \\in [-1, 1]$\n",
        "\n",
        "what is the probability that the outcome of the second measurement is $u$, in terms of $a$ and $b$?\n",
        "\n",
        "Answer: let us denote by $x_1$ and $x_2$ the outcomes of the first and second measurements respectively.\n",
        "\n",
        "Then,\n",
        "\n",
        "$\\textrm{Pr}[x_2=u] = \\textrm{Pr}[x_1=0]\\cdot\\textrm{Pr}[x_2=u|x_1=0] + \\\\\n",
        "~~~~~~~~~~~~~~~~~~~~~~\\textrm{Pr}[x_1=1]\\cdot\\textrm{Pr}[x_2=u|x_1=1] = \\\\\n",
        "~~~~~~~~~~~~~~~~~=  a^2\\cdot{}b^2 + (1-a^2)\\cdot(1-b^2) $\n"
      ],
      "metadata": {
        "id": "bLofxVLgATCW"
      }
    },
    {
      "cell_type": "markdown",
      "source": [
        "**Problem 10.** Pick one of the following four alternatives which is not an orthogonal basis for a two qubit system.\n",
        "\n",
        "(a) $|00\\rangle, |01\\rangle, |10\\rangle, |11\\rangle $\n",
        "\n",
        "(b) $|{+}{+}\\rangle, |{+}{-}\\rangle, |{-}{+}\\rangle, |{-}{-}\\rangle $\n",
        "\n",
        "(c) $\\frac{1}{\\sqrt{2}}|00\\rangle+\\frac{1}{\\sqrt{2}}|11\\rangle, \\frac{1}{\\sqrt{2}}|01\\rangle+\\frac{1}{\\sqrt{2}}|10\\rangle, \\frac{1}{\\sqrt{2}}|{+}{+}\\rangle+\\frac{1}{\\sqrt{2}}|{-}{-}\\rangle, \\frac{1}{\\sqrt{2}}|{+}{-}\\rangle+\\frac{1}{\\sqrt{2}}|{-}{+}\\rangle$\n",
        "\n",
        "(d) $\\frac{1}{\\sqrt{2}}|00\\rangle+\\frac{1}{\\sqrt{2}}|11\\rangle, \\frac{1}{\\sqrt{2}}|00\\rangle-\\frac{1}{\\sqrt{2}}|11\\rangle, \\frac{1}{\\sqrt{2}}|01\\rangle+\\frac{1}{\\sqrt{2}}|10\\rangle, \\frac{1}{\\sqrt{2}}|01\\rangle-\\frac{1}{\\sqrt{2}}|10\\rangle $\n",
        "\n",
        "Answer: this problem goes very well with the start of this notebook.\n",
        "\n",
        "You can check that (a), (b) and (d) are fine; makes for good practice.\n",
        "\n",
        "Then in (c) you can observe something that solves the problem:\n",
        "\n",
        "$\\frac{1}{\\sqrt{2}}|00\\rangle+\\frac{1}{\\sqrt{2}}|11\\rangle \\textrm{ and } \\frac{1}{\\sqrt{2}}|{+}{+}\\rangle+\\frac{1}{\\sqrt{2}}|{-}{-}\\rangle$\n",
        "\n",
        "These two vectors are not orthogonal. How do we know?\n",
        "\n",
        "By the rotational invariance of Bell states they're in fact equal."
      ],
      "metadata": {
        "id": "GxixUWlLAkUD"
      }
    },
    {
      "cell_type": "markdown",
      "source": [
        "**Problem 11.** If the first qubit is in the state\n",
        "\n",
        "$\\frac{\\sqrt{2}}{\\sqrt{3}}|0\\rangle + \\frac{1}{\\sqrt{3}}|1\\rangle$\n",
        "\n",
        "and the second qubit is in the state\n",
        "\n",
        "$\\frac{1}{\\sqrt{3}}|0\\rangle + \\frac{\\sqrt{2}}{\\sqrt{3}}|1\\rangle$\n",
        "\n",
        "what is the state of the composite system? Write your answer as\n",
        "\n",
        "$a|00\\rangle + b|01\\rangle + c|10\\rangle + d|11\\rangle$\n",
        "\n",
        "and specify $a, b, c, d$.\n",
        "\n",
        "Answer: this is very straightforward. We start with  \n",
        "\n",
        "$\\Big(\\frac{\\sqrt{2}}{\\sqrt{3}}|0\\rangle + \\frac{1}{\\sqrt{3}}|1\\rangle\\Big) \\Big(\\frac{1}{\\sqrt{3}}|0\\rangle + \\frac{\\sqrt{2}}{\\sqrt{3}}|1\\rangle\\Big) = $\n",
        "\n",
        "which becomes\n",
        "\n",
        "$= \\frac{\\sqrt{2}}{3}|00\\rangle + \\frac{2}{3}|01\\rangle + \\frac{1}{3}|10\\rangle + \\frac{\\sqrt{2}}{3}|11\\rangle$\n",
        "\n",
        "So now $a = \\frac{\\sqrt{2}}{3}$ and so forth (go ahead and finish it).\n",
        "\n",
        "At the end please check that $a^2+b^2+c^2+d^2=1$.\n"
      ],
      "metadata": {
        "id": "uwWQjIpJA4jW"
      }
    },
    {
      "cell_type": "markdown",
      "source": [
        "**Problem 12.** Factor\n",
        "\n",
        "$\\frac{1}{2\\sqrt{2}}|00\\rangle - \\frac{1}{2\\sqrt{2}}|01\\rangle + \\frac{\\sqrt{3}}{2\\sqrt{2}}|10\\rangle - \\frac{\\sqrt{3}}{2\\sqrt{2}}|11\\rangle$\n",
        "\n",
        "into\n",
        "\n",
        "$\\big(a|0\\rangle + b|1\\rangle\\big)\\big(c|0\\rangle + d|1\\rangle\\big)$\n",
        "\n",
        "where\n",
        "\n",
        "$|a|^2 + |b|^2 = 1$\n",
        "\n",
        "and\n",
        "\n",
        "$|c|^2 + |d|^2 = 1$\n",
        "\n",
        "Answer: If we multiply we obtain the following\n",
        "\n",
        "$\\begin{cases}\n",
        "ac = \\frac{1}{2\\sqrt{2}}\\\\\n",
        "ad = -\\frac{1}{2\\sqrt{2}}\\\\\n",
        "bc = \\frac{\\sqrt{3}}{2\\sqrt{2}}\\\\\n",
        "bd = -\\frac{\\sqrt{3}}{2\\sqrt{2}}\\\\\n",
        "a^2+b^2 = 1\\\\\n",
        "c^2+d^2 = 1\\\\\n",
        "\\end{cases}$\n",
        "\n",
        "Now type all these in Wolfram Alpha and determine $a, b, c, d$.\n"
      ],
      "metadata": {
        "id": "ZASkJk1KFdcV"
      }
    },
    {
      "cell_type": "markdown",
      "source": [
        "**Problem 13.** Suppose we have two qubits in the state\n",
        "\n",
        "$\\alpha|00\\rangle + \\beta|11\\rangle$\n",
        "\n",
        "(a) if we measure the first qubit in the sign basis, what is the probability of seeing a +?\n",
        "\n",
        "(b) what is the resulting state of the second qubit in that case?\n",
        "\n",
        "Answer: Recall the following two formulas:\n",
        "\n",
        "$|0\\rangle = \\frac{1}{\\sqrt{2}}\\big(|+\\rangle + |-\\rangle\\big)$\n",
        "\n",
        "and\n",
        "\n",
        "$|1\\rangle = \\frac{1}{\\sqrt{2}}\\big(|+\\rangle - |-\\rangle\\big)$\n",
        "\n",
        "Now we write\n",
        "\n",
        "$\\alpha |00\\rangle + \\beta|11\\rangle = \\alpha\\big(|0\\rangle \\otimes |0\\rangle\\big) + \\beta\\big(|1\\rangle \\otimes |1\\rangle\\big)$\n",
        "\n",
        "as we saw yesterday. And this becomes:\n",
        "\n",
        "$= \\alpha \\cdot \\frac{1}{\\sqrt{2}}\\Big(\\big(|+\\rangle + |-\\rangle\\big) \\otimes |0\\rangle\\Big) + \\beta \\cdot \\frac{1}{\\sqrt{2}}\\Big(\\big(|+\\rangle - |-\\rangle\\big) \\otimes |0\\rangle\\Big) = $\n",
        "\n",
        "and now we rearrange the terms\n",
        "\n",
        "$= \\frac{1}{\\sqrt{2}} |+\\rangle \\otimes \\big( \\alpha|0\\rangle + \\beta |1\\rangle\\big) + \\frac{1}{\\sqrt{2}} |-\\rangle \\otimes \\big( \\alpha|0\\rangle - \\beta |1\\rangle\\big) $\n",
        "\n",
        "So this tells us two things:\n",
        "\n",
        "the answer to (a) is $\\big(\\frac{1}{\\sqrt{2}}\\big)^2 = \\frac{1}{2}$\n",
        "\n",
        "and the state of the second qubit is\n",
        "\n",
        "$\\alpha|0\\rangle + \\beta|1\\rangle$\n",
        "\n",
        "This elegant solution is due to Arpan.\n"
      ],
      "metadata": {
        "id": "e2bJEwGiFlHf"
      }
    },
    {
      "cell_type": "markdown",
      "source": [
        "**Problem 14.** A two-qubit system was originally in the state\n",
        "\n",
        "$\\frac{1}{5}|00\\rangle + \\frac{2}{5}|01\\rangle + \\frac{4}{5}|10\\rangle = \\frac{2}{5}|11\\rangle$\n",
        "\n",
        "and then we measured the first bit to be $0$.\n",
        "\n",
        "Now if we measure the second qubit in the standard basis, what is the probability that the outcome is $0$?\n",
        "\n",
        "Answer: see the discussion on partial measurements. We have:\n",
        "\n",
        "$|\\psi_{\\textrm{new}}\\rangle = \\frac{\\alpha_{00} |00\\rangle + \\alpha{01}|01\\rangle}{\\sqrt{|\\alpha_{00}|^2+|\\alpha_{01}|^2}}$\n",
        "\n",
        "Now clearly here $\\alpha_{00}=\\frac{1}{5}$ and $\\alpha_{01} = \\frac{2}{5}$\n",
        "\n",
        "So calculate and identify the coefficient of $|00\\rangle$ in the resulting formula.\n"
      ],
      "metadata": {
        "id": "KJFyqnqJFsPu"
      }
    },
    {
      "cell_type": "markdown",
      "source": [
        "**Problem 15.** We have two qubits originally in the state $|0+\\rangle$\n",
        "\n",
        "(which means that the first qubit is in $|0\\rangle$ and the second qubit is in $|+\\rangle$),\n",
        "\n",
        "which we want to entangle by performing a measurement.\n",
        "\n",
        "Which of the following measurements should we perform and why?\n",
        "\n",
        "(a) $|00\\rangle, |01\\rangle, |10\\rangle, |11\\rangle$\n",
        "\n",
        "(b) $|++\\rangle, |+-\\rangle, |-+\\rangle, |--\\rangle$\n",
        "\n",
        "(c) $|0+\\rangle, |0-\\rangle, |1+\\rangle, |1-\\rangle$\n",
        "\n",
        "(d) $\n",
        "\\frac{1}{\\sqrt{2}}|00\\rangle + \\frac{1}{\\sqrt{2}}|11\\rangle,\n",
        "\\frac{1}{\\sqrt{2}}|00\\rangle - \\frac{1}{\\sqrt{2}}|11\\rangle,\n",
        "\\frac{1}{\\sqrt{2}}|01\\rangle + \\frac{1}{\\sqrt{2}}|10\\rangle,\n",
        "\\frac{1}{\\sqrt{2}}|01\\rangle - \\frac{1}{\\sqrt{2}}|10\\rangle$\n",
        "\n",
        "(e) There is no way to entangle two qubits by a measurement.\n",
        "\n",
        "Answer: (d). Since all theser basis vectors are entangled (can you check?) then ...\n",
        "\n",
        "... the measurement will leave the two qubits entangled regardless of the outcome.\n"
      ],
      "metadata": {
        "id": "ftce81sYF1AJ"
      }
    },
    {
      "cell_type": "markdown",
      "source": [
        "**Problem 16.** Again we have two qubits in the state $|0+>$,\n",
        "\n",
        "but this time we want to entangle them by performing\n",
        "\n",
        "a partial measurement on the first qubit. Which of the following\n",
        "\n",
        "measurements should we perform and why?\n",
        "\n",
        "(a) $|0\\rangle, |1\\rangle$\n",
        "\n",
        "(b) $|+\\rangle, |-\\rangle$\n",
        "\n",
        "(c) $\\frac{1}{\\sqrt{2}}|0\\rangle + \\frac{i}{\\sqrt{2}}|1\\rangle, -\\frac{i}{\\sqrt{2}}|0\\rangle - \\frac{1}{\\sqrt{2}}|1\\rangle, $\n",
        "\n",
        "(d) $\\frac{1}{\\sqrt{2}}|0\\rangle - \\frac{i}{\\sqrt{2}}|1\\rangle, \\frac{i}{\\sqrt{2}}|0\\rangle - \\frac{1}{\\sqrt{2}}|1\\rangle $\n",
        "\n",
        "(e) There is no way to entangle two qubits by a partial measurement.\n",
        "\n",
        "Answer: suppose we measure the first qubit in an arbitrary basis and\n",
        "get the outcome $u$.\n",
        "\n",
        "Then, the resulting state of the two qubit system\n",
        "is $|u\\rangle|+\\rangle$, which is clearly unentangled.\n",
        "\n",
        "Thus, there is no\n",
        "way to entangle two qubits by a partial measurement of the first qubit."
      ],
      "metadata": {
        "id": "S98YWq8AF7PF"
      }
    },
    {
      "cell_type": "markdown",
      "source": [
        "**Problem 17.** How do we write\n",
        "\n",
        "$|\\psi\\rangle = \\frac{1}{\\sqrt{2}}|0\\rangle + \\frac{e^{i\\theta}}{\\sqrt{2}}|1\\rangle$\n",
        "\n",
        "in the sign basis?\n",
        "\n",
        "Answer: Start from\n",
        "\n",
        "$|\\psi\\rangle = \\frac{1}{\\sqrt{2}}|0\\rangle + \\frac{e^{i\\theta}}{\\sqrt{2}}|1\\rangle = $\n",
        "\n",
        "and rewrite the basis vectors:\n",
        "\n",
        "$ = \\frac{1}{\\sqrt{2}}\\Big(\\frac{1}{\\sqrt{2}}|+\\rangle + \\frac{1}{\\sqrt{2}}|-\\rangle\\Big) + \\frac{e^{i\\theta}}{\\sqrt{2}}\\Big(\\frac{1}{\\sqrt{2}}|+\\rangle - \\frac{1}{\\sqrt{2}}|-\\rangle\\Big) = $\n",
        "\n",
        "... and you can finish this easily now."
      ],
      "metadata": {
        "id": "g2K6Fo36GB5H"
      }
    },
    {
      "cell_type": "markdown",
      "source": [
        "**Problem 18.** Consider the state\n",
        "\n",
        "$|\\psi\\rangle = \\frac{1}{\\sqrt{2}}|0\\rangle + \\frac{e^{i\\theta}}{\\sqrt{2}}|1\\rangle $\n",
        "\n",
        "fro the previous question. To estimate the phase $\\theta$, we measure $|\\psi\\rangle$ in the sign basis.\n",
        "\n",
        "What is the probability that the outcome of the measurement is $+$?\n",
        "\n",
        "Recall that $e^{i\\theta}=\\cos{\\theta} + i \\sin{\\theta}$\n",
        "\n",
        "Answer: now I have to reveal the answer to the previous problem. So,\n",
        "\n",
        "$|\\psi\\rangle = \\frac{1+e^{i\\theta}}{2}|+\\rangle + \\frac{1+e^{i\\theta}}{2}|-\\rangle$\n",
        "\n",
        "Now we calculate\n",
        "\n",
        "$\\textrm{Pr}[+] = |\\frac{1+e^{i\\theta}}{2}|^2 = \\frac{1+e^{i\\theta}}{2} \\cdot \\frac{1 + e^{-i\\theta}}{2} = $\n",
        "\n",
        "... and from here on you can finish the calculation easily (I assume).\n"
      ],
      "metadata": {
        "id": "iswxLNilGHYq"
      }
    }
  ]
}